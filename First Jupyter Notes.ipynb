{
 "cells": [
  {
   "cell_type": "code",
   "execution_count": null,
   "id": "98edaf91",
   "metadata": {},
   "outputs": [],
   "source": [
    "print(\"Hello world from jupyter!\")\n"
   ]
  },
  {
   "cell_type": "code",
   "execution_count": null,
   "id": "8347d64a",
   "metadata": {},
   "outputs": [],
   "source": [
    "import time \n",
    "time.sleep(4)"
   ]
  },
  {
   "cell_type": "code",
   "execution_count": null,
   "id": "2e8e30b0",
   "metadata": {},
   "outputs": [],
   "source": [
    "def say_hello(name):\n",
    "    return 'Hello, {}'.format(name)"
   ]
  },
  {
   "cell_type": "code",
   "execution_count": null,
   "id": "d09e6015",
   "metadata": {},
   "outputs": [],
   "source": [
    "say_hello('Riley')"
   ]
  },
  {
   "cell_type": "markdown",
   "id": "b7aaf33a",
   "metadata": {},
   "source": [
    "num1 = 10\n",
    "num2 = 7"
   ]
  },
  {
   "cell_type": "code",
   "execution_count": null,
   "id": "3cbea9a9",
   "metadata": {},
   "outputs": [],
   "source": [
    "x = num1-num2\n",
    "print(x)"
   ]
  },
  {
   "cell_type": "markdown",
   "id": "afe7c947",
   "metadata": {},
   "source": [
    "# This is heading 1\n",
    "## This is heading 2\n",
    "**This is bold text** __This is bold text 2__\n",
    "*This is italic* _This is italic_\n",
    "You can also create lists:\n",
    "* item 1 in bullets\n",
    "* item 2 in bullets\n",
    "you can aslo create number lists\n",
    "1. item 1 in numeric list\n",
    "2. item 2 in numeric list\n",
    "\n",
    "[this is a link to tlu webpage](http://www.tlu.edu)"
   ]
  },
  {
   "cell_type": "code",
   "execution_count": null,
   "id": "997a6030",
   "metadata": {},
   "outputs": [],
   "source": [
    "import numpy as np \n",
    "def square(x):\n",
    "    return x*x"
   ]
  },
  {
   "cell_type": "code",
   "execution_count": null,
   "id": "71822322",
   "metadata": {},
   "outputs": [],
   "source": [
    "x = np.random.randint(1,10)\n",
    "y= square(x)\n",
    "print('%d squared is: %d' % (x,y))"
   ]
  },
  {
   "cell_type": "code",
   "execution_count": null,
   "id": "8c484617",
   "metadata": {},
   "outputs": [],
   "source": []
  }
 ],
 "metadata": {
  "kernelspec": {
   "display_name": "Python 3 (ipykernel)",
   "language": "python",
   "name": "python3"
  },
  "language_info": {
   "codemirror_mode": {
    "name": "ipython",
    "version": 3
   },
   "file_extension": ".py",
   "mimetype": "text/x-python",
   "name": "python",
   "nbconvert_exporter": "python",
   "pygments_lexer": "ipython3",
   "version": "3.9.7"
  }
 },
 "nbformat": 4,
 "nbformat_minor": 5
}
